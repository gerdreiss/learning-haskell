{
 "cells": [
  {
   "cell_type": "code",
   "execution_count": 7,
   "metadata": {},
   "outputs": [],
   "source": [
    "import Data.List\n",
    "import Database.HDBC\n",
    "import Database.HDBC.Sqlite3\n",
    "import Text.CSV\n",
    "import Text.Regex.Posix"
   ]
  },
  {
   "cell_type": "code",
   "execution_count": 6,
   "metadata": {},
   "outputs": [],
   "source": [
    "-- Converts a CSV expression into an SQL database\n",
    "-- Returns \"Successful\" if successful,\n",
    "-- error message otherwise.\n",
    "convertCSVToSQL :: String -> FilePath -> [String] -> CSV -> IO ()\n",
    "convertCSVToSQL tableName outFileName fields records =\n",
    "  -- Check to make sure that the number of\n",
    "  -- columns matches the number of fields\n",
    "  if nfieldsInFile == nfieldsInFields then do\n",
    "    -- Open a connection\n",
    "    conn <- connectSqlite3 outFileName\n",
    " \n",
    "    -- Create a new table\n",
    "    run conn createStatement []\n",
    "    -- Load contents of CSV file into table\n",
    "    stmt <- prepare conn insertStatement\n",
    "    executeMany stmt (tail (filter (\\record -> nfieldsInFile == length record) sqlRecords))\n",
    " \n",
    "    -- Commit changes\n",
    "    commit conn\n",
    "    -- Close the connection\n",
    "    disconnect conn\n",
    "    -- Report that we were successful\n",
    "    putStrLn \"Successful\"\n",
    "  else\n",
    "    putStrLn \"The number of input fields differ from the csv file.\"\n",
    " \n",
    "  where\n",
    "    nfieldsInFile = length $ head records\n",
    "    nfieldsInFields = length fields\n",
    "    createStatement = \"CREATE TABLE \" ++ tableName ++ \" (\" ++ \n",
    "                      (intercalate \", \" fields) ++ \n",
    "                      \")\"\n",
    "    insertStatement = \"INSERT INTO \" ++ tableName ++ \" VALUES (\" ++\n",
    "                      (intercalate \", \" (replicate nfieldsInFile \"?\")) ++ \n",
    "                      \")\"\n",
    "    sqlRecords = map (\\record -> map (\\element -> toSql element) record) records"
   ]
  },
  {
   "cell_type": "code",
   "execution_count": 8,
   "metadata": {},
   "outputs": [],
   "source": [
    "str1 = \"one fish two fish red fish blue fish\""
   ]
  },
  {
   "cell_type": "code",
   "execution_count": 9,
   "metadata": {},
   "outputs": [],
   "source": [
    "str2 = \"The quick brown fox jumps over the lazy dog.\""
   ]
  },
  {
   "cell_type": "code",
   "execution_count": 10,
   "metadata": {},
   "outputs": [
    {
     "data": {
      "text/plain": [
       "True"
      ]
     },
     "metadata": {},
     "output_type": "display_data"
    }
   ],
   "source": [
    "str1 =~ \"one\" :: Bool"
   ]
  },
  {
   "cell_type": "code",
   "execution_count": 11,
   "metadata": {},
   "outputs": [
    {
     "data": {
      "text/plain": [
       "False"
      ]
     },
     "metadata": {},
     "output_type": "display_data"
    }
   ],
   "source": [
    "str2 =~ \"one\" :: Bool"
   ]
  },
  {
   "cell_type": "code",
   "execution_count": 12,
   "metadata": {},
   "outputs": [
    {
     "data": {
      "text/plain": [
       "True"
      ]
     },
     "metadata": {},
     "output_type": "display_data"
    }
   ],
   "source": [
    "str1 =~ \"o.e\" :: Bool"
   ]
  },
  {
   "cell_type": "code",
   "execution_count": 13,
   "metadata": {},
   "outputs": [
    {
     "data": {
      "text/plain": [
       "True"
      ]
     },
     "metadata": {},
     "output_type": "display_data"
    }
   ],
   "source": [
    "str2 =~ \"o.e\" :: Bool"
   ]
  },
  {
   "cell_type": "code",
   "execution_count": 14,
   "metadata": {},
   "outputs": [
    {
     "data": {
      "text/plain": [
       "True"
      ]
     },
     "metadata": {},
     "output_type": "display_data"
    }
   ],
   "source": [
    "str1 =~ \"fish|fox\" :: Bool"
   ]
  },
  {
   "cell_type": "code",
   "execution_count": null,
   "metadata": {},
   "outputs": [],
   "source": [
    " "
   ]
  }
 ],
 "metadata": {
  "kernelspec": {
   "display_name": "Haskell",
   "language": "haskell",
   "name": "haskell"
  },
  "language_info": {
   "codemirror_mode": "ihaskell",
   "file_extension": ".hs",
   "name": "haskell",
   "pygments_lexer": "Haskell",
   "version": "8.6.5"
  }
 },
 "nbformat": 4,
 "nbformat_minor": 2
}
